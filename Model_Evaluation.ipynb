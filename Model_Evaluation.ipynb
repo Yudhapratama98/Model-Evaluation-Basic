{
  "cells": [
    {
      "cell_type": "markdown",
      "metadata": {
        "id": "hbR7iGsRiBq2"
      },
      "source": [
        "## **Latihan Model Evaluation**"
      ]
    },
    {
      "cell_type": "markdown",
      "metadata": {
        "id": "yhP6rTzGiBq6"
      },
      "source": [
        "### **Gunakan dataset 'Titanic'**\n",
        "\n",
        "**Target: 'alive'**\n",
        "\n",
        "- Skema pre-processing:\n",
        "  * Drop feature 'deck'\n",
        "  * Isi missing value 'age' dengan simple imputer median\n",
        "  * Isi missing value 'embark town' dengan simple imputer modus\n",
        "  * One hot encoding: 'sex', 'embark town', 'alone'\n",
        "  * Ordinal encoding: 'class'\n",
        "  * Scaling dengan RobustScaler()\n",
        "<br><br>\n",
        "- Split data menjadi 80:20 dengan random_state = 0.\n",
        "- Tentukan metric evaluasi yang sesuai untuk kasus Titanic.\n",
        "- Pilih model terbaik dengan cross-validation (n_splits=5):\n",
        "    * Logistic regression: solver = liblinear\n",
        "    * KNN: n_neighbors = 3\n",
        "    * Decision tree: max depth = 3\n",
        "<br>\n",
        "- Interpretasikan hasil metric yang dipilih tersebut."
      ]
    },
    {
      "cell_type": "code",
      "execution_count": null,
      "metadata": {
        "id": "ULn9nuVeiBq9"
      },
      "outputs": [],
      "source": [
        "import numpy as np\n",
        "import pandas as pd\n",
        "import matplotlib.pyplot as plt\n",
        "import seaborn as sns\n",
        "\n",
        "from sklearn import metrics\n",
        "from sklearn.model_selection import train_test_split\n",
        "\n",
        "import category_encoders as ce\n",
        "from sklearn.preprocessing import OneHotEncoder\n",
        "from sklearn.compose import ColumnTransformer\n",
        "from sklearn.pipeline import Pipeline\n",
        "from sklearn.impute import SimpleImputer\n",
        "from sklearn.preprocessing import RobustScaler\n",
        "\n",
        "from sklearn.linear_model import LogisticRegression\n",
        "from sklearn.neighbors import KNeighborsClassifier\n",
        "from sklearn.tree import DecisionTreeClassifier\n",
        "from sklearn.model_selection import cross_val_score, StratifiedKFold\n",
        "from sklearn.metrics import accuracy_score, confusion_matrix, recall_score, precision_score, classification_report, f1_score\n",
        "from sklearn.metrics import roc_curve, roc_auc_score, plot_roc_curve, precision_recall_curve, average_precision_score, plot_precision_recall_curve\n",
        "\n",
        "import warnings\n",
        "warnings.filterwarnings('ignore')"
      ]
    },
    {
      "cell_type": "code",
      "execution_count": null,
      "metadata": {
        "id": "HIO01yuBiBrB",
        "outputId": "c3c234de-a930-4bcf-da68-ea82c66fb801"
      },
      "outputs": [
        {
          "data": {
            "text/html": [
              "<div>\n",
              "<style scoped>\n",
              "    .dataframe tbody tr th:only-of-type {\n",
              "        vertical-align: middle;\n",
              "    }\n",
              "\n",
              "    .dataframe tbody tr th {\n",
              "        vertical-align: top;\n",
              "    }\n",
              "\n",
              "    .dataframe thead th {\n",
              "        text-align: right;\n",
              "    }\n",
              "</style>\n",
              "<table border=\"1\" class=\"dataframe\">\n",
              "  <thead>\n",
              "    <tr style=\"text-align: right;\">\n",
              "      <th></th>\n",
              "      <th>sex</th>\n",
              "      <th>age</th>\n",
              "      <th>parch</th>\n",
              "      <th>fare</th>\n",
              "      <th>class</th>\n",
              "      <th>deck</th>\n",
              "      <th>embark_town</th>\n",
              "      <th>alive</th>\n",
              "      <th>alone</th>\n",
              "    </tr>\n",
              "  </thead>\n",
              "  <tbody>\n",
              "    <tr>\n",
              "      <th>0</th>\n",
              "      <td>male</td>\n",
              "      <td>22.0</td>\n",
              "      <td>0</td>\n",
              "      <td>7.2500</td>\n",
              "      <td>Third</td>\n",
              "      <td>NaN</td>\n",
              "      <td>Southampton</td>\n",
              "      <td>no</td>\n",
              "      <td>False</td>\n",
              "    </tr>\n",
              "    <tr>\n",
              "      <th>1</th>\n",
              "      <td>female</td>\n",
              "      <td>38.0</td>\n",
              "      <td>0</td>\n",
              "      <td>71.2833</td>\n",
              "      <td>First</td>\n",
              "      <td>C</td>\n",
              "      <td>Cherbourg</td>\n",
              "      <td>yes</td>\n",
              "      <td>False</td>\n",
              "    </tr>\n",
              "    <tr>\n",
              "      <th>2</th>\n",
              "      <td>female</td>\n",
              "      <td>26.0</td>\n",
              "      <td>0</td>\n",
              "      <td>7.9250</td>\n",
              "      <td>Third</td>\n",
              "      <td>NaN</td>\n",
              "      <td>Southampton</td>\n",
              "      <td>yes</td>\n",
              "      <td>True</td>\n",
              "    </tr>\n",
              "    <tr>\n",
              "      <th>3</th>\n",
              "      <td>female</td>\n",
              "      <td>35.0</td>\n",
              "      <td>0</td>\n",
              "      <td>53.1000</td>\n",
              "      <td>First</td>\n",
              "      <td>C</td>\n",
              "      <td>Southampton</td>\n",
              "      <td>yes</td>\n",
              "      <td>False</td>\n",
              "    </tr>\n",
              "    <tr>\n",
              "      <th>4</th>\n",
              "      <td>male</td>\n",
              "      <td>35.0</td>\n",
              "      <td>0</td>\n",
              "      <td>8.0500</td>\n",
              "      <td>Third</td>\n",
              "      <td>NaN</td>\n",
              "      <td>Southampton</td>\n",
              "      <td>no</td>\n",
              "      <td>True</td>\n",
              "    </tr>\n",
              "  </tbody>\n",
              "</table>\n",
              "</div>"
            ],
            "text/plain": [
              "      sex   age  parch     fare  class deck  embark_town alive  alone\n",
              "0    male  22.0      0   7.2500  Third  NaN  Southampton    no  False\n",
              "1  female  38.0      0  71.2833  First    C    Cherbourg   yes  False\n",
              "2  female  26.0      0   7.9250  Third  NaN  Southampton   yes   True\n",
              "3  female  35.0      0  53.1000  First    C  Southampton   yes  False\n",
              "4    male  35.0      0   8.0500  Third  NaN  Southampton    no   True"
            ]
          },
          "execution_count": 501,
          "metadata": {},
          "output_type": "execute_result"
        }
      ],
      "source": [
        "df= pd.read_csv('titanic.csv')\n",
        "df.head()"
      ]
    },
    {
      "cell_type": "code",
      "execution_count": null,
      "metadata": {
        "id": "EkKqZk4PiBrE",
        "outputId": "cf8a0c1f-ce35-47af-b21b-48045af9f4eb"
      },
      "outputs": [
        {
          "name": "stdout",
          "output_type": "stream",
          "text": [
            "<class 'pandas.core.frame.DataFrame'>\n",
            "RangeIndex: 891 entries, 0 to 890\n",
            "Data columns (total 9 columns):\n",
            " #   Column       Non-Null Count  Dtype  \n",
            "---  ------       --------------  -----  \n",
            " 0   sex          891 non-null    object \n",
            " 1   age          714 non-null    float64\n",
            " 2   parch        891 non-null    int64  \n",
            " 3   fare         891 non-null    float64\n",
            " 4   class        891 non-null    object \n",
            " 5   deck         203 non-null    object \n",
            " 6   embark_town  889 non-null    object \n",
            " 7   alive        891 non-null    object \n",
            " 8   alone        891 non-null    bool   \n",
            "dtypes: bool(1), float64(2), int64(1), object(5)\n",
            "memory usage: 56.7+ KB\n"
          ]
        }
      ],
      "source": [
        "df.info()"
      ]
    },
    {
      "cell_type": "code",
      "execution_count": null,
      "metadata": {
        "id": "4kPXh0XWiBrF"
      },
      "outputs": [],
      "source": [
        "# Drop feature 'deck'\n",
        "df = df.drop(columns='deck')"
      ]
    },
    {
      "cell_type": "markdown",
      "metadata": {
        "id": "BI8iQEckiBrH"
      },
      "source": [
        "## **Define X and y**"
      ]
    },
    {
      "cell_type": "code",
      "execution_count": null,
      "metadata": {
        "id": "5CswKgsgiBrH"
      },
      "outputs": [],
      "source": [
        "X = df.drop(columns='alive')\n",
        "y = np.where(df['alive'] == 'yes', 1, 0)"
      ]
    },
    {
      "cell_type": "code",
      "execution_count": null,
      "metadata": {
        "id": "sNtB5CMHiBrJ",
        "outputId": "136b12dc-1991-40d3-e997-79f2f7a8669c"
      },
      "outputs": [
        {
          "data": {
            "text/html": [
              "<div>\n",
              "<style scoped>\n",
              "    .dataframe tbody tr th:only-of-type {\n",
              "        vertical-align: middle;\n",
              "    }\n",
              "\n",
              "    .dataframe tbody tr th {\n",
              "        vertical-align: top;\n",
              "    }\n",
              "\n",
              "    .dataframe thead th {\n",
              "        text-align: right;\n",
              "    }\n",
              "</style>\n",
              "<table border=\"1\" class=\"dataframe\">\n",
              "  <thead>\n",
              "    <tr style=\"text-align: right;\">\n",
              "      <th></th>\n",
              "      <th>sex</th>\n",
              "      <th>age</th>\n",
              "      <th>parch</th>\n",
              "      <th>fare</th>\n",
              "      <th>class</th>\n",
              "      <th>embark_town</th>\n",
              "      <th>alone</th>\n",
              "    </tr>\n",
              "  </thead>\n",
              "  <tbody>\n",
              "    <tr>\n",
              "      <th>0</th>\n",
              "      <td>male</td>\n",
              "      <td>22.0</td>\n",
              "      <td>0</td>\n",
              "      <td>7.2500</td>\n",
              "      <td>Third</td>\n",
              "      <td>Southampton</td>\n",
              "      <td>False</td>\n",
              "    </tr>\n",
              "    <tr>\n",
              "      <th>1</th>\n",
              "      <td>female</td>\n",
              "      <td>38.0</td>\n",
              "      <td>0</td>\n",
              "      <td>71.2833</td>\n",
              "      <td>First</td>\n",
              "      <td>Cherbourg</td>\n",
              "      <td>False</td>\n",
              "    </tr>\n",
              "    <tr>\n",
              "      <th>2</th>\n",
              "      <td>female</td>\n",
              "      <td>26.0</td>\n",
              "      <td>0</td>\n",
              "      <td>7.9250</td>\n",
              "      <td>Third</td>\n",
              "      <td>Southampton</td>\n",
              "      <td>True</td>\n",
              "    </tr>\n",
              "    <tr>\n",
              "      <th>3</th>\n",
              "      <td>female</td>\n",
              "      <td>35.0</td>\n",
              "      <td>0</td>\n",
              "      <td>53.1000</td>\n",
              "      <td>First</td>\n",
              "      <td>Southampton</td>\n",
              "      <td>False</td>\n",
              "    </tr>\n",
              "    <tr>\n",
              "      <th>4</th>\n",
              "      <td>male</td>\n",
              "      <td>35.0</td>\n",
              "      <td>0</td>\n",
              "      <td>8.0500</td>\n",
              "      <td>Third</td>\n",
              "      <td>Southampton</td>\n",
              "      <td>True</td>\n",
              "    </tr>\n",
              "  </tbody>\n",
              "</table>\n",
              "</div>"
            ],
            "text/plain": [
              "      sex   age  parch     fare  class  embark_town  alone\n",
              "0    male  22.0      0   7.2500  Third  Southampton  False\n",
              "1  female  38.0      0  71.2833  First    Cherbourg  False\n",
              "2  female  26.0      0   7.9250  Third  Southampton   True\n",
              "3  female  35.0      0  53.1000  First  Southampton  False\n",
              "4    male  35.0      0   8.0500  Third  Southampton   True"
            ]
          },
          "execution_count": 505,
          "metadata": {},
          "output_type": "execute_result"
        }
      ],
      "source": [
        "X.head()"
      ]
    },
    {
      "cell_type": "markdown",
      "metadata": {
        "id": "7rzfe5JQiBrK"
      },
      "source": [
        "## **Data Splitting**"
      ]
    },
    {
      "cell_type": "code",
      "execution_count": null,
      "metadata": {
        "id": "mMw5oq7RiBrL"
      },
      "outputs": [],
      "source": [
        "X_train, X_test, y_train, y_test= train_test_split(\n",
        "    X,\n",
        "    y,\n",
        "    stratify = y,\n",
        "    test_size = 0.2,\n",
        "    random_state = 0)"
      ]
    },
    {
      "cell_type": "markdown",
      "source": [
        "- https://scikit-learn.org/stable/modules/compose.html#column-transformer\n",
        "- https://scikit-learn.org/stable/modules/generated/sklearn.pipeline.Pipeline.html#sklearn.pipeline.Pipeline"
      ],
      "metadata": {
        "id": "pNypfcKP-aBv"
      }
    },
    {
      "cell_type": "markdown",
      "metadata": {
        "id": "TiorCGnFiBrM"
      },
      "source": [
        "## **Data Transformation**"
      ]
    },
    {
      "cell_type": "code",
      "execution_count": null,
      "metadata": {
        "id": "JyZ302-yiBrN"
      },
      "outputs": [],
      "source": [
        "# Simple Imputer + Onehot Encoder untuk 'embark_town'\n",
        "onehot = Pipeline([\n",
        "    ('impute', SimpleImputer(strategy='most_frequent')),\n",
        "    ('one hot', OneHotEncoder())\n",
        "])\n",
        "\n",
        "# mapping Ordinal Encoder untuk 'class'\n",
        "mapping = [{'col':'class', 'mapping':{None: 0, 'First':1, 'Second':2, 'Third':3}}]\n",
        "ordinal = ce.OrdinalEncoder(mapping=mapping)\n",
        "\n",
        "# Column Transformer\n",
        "transformer= ColumnTransformer([\n",
        "    ('One Hot1', onehot, ['embark_town']),\n",
        "    ('One Hot2', OneHotEncoder(), ['sex', 'alone']),\n",
        "    ('Ordinal', ordinal,['class']),\n",
        "    ('Impute', SimpleImputer(strategy='median'), ['age'])\n",
        "], remainder='passthrough')"
      ]
    },
    {
      "cell_type": "code",
      "execution_count": null,
      "metadata": {
        "id": "QCoIjWo6iBrN"
      },
      "outputs": [],
      "source": [
        "# fit and transform\n",
        "X_train_preprocessed = pd.DataFrame(transformer.fit_transform(X_train))\n",
        "X_test_preprocessed = pd.DataFrame(transformer.transform(X_test))"
      ]
    },
    {
      "cell_type": "code",
      "execution_count": null,
      "metadata": {
        "id": "cwKxtxHIiBrP",
        "outputId": "a7a6f778-b7a9-4a06-a9d6-a9393f293076"
      },
      "outputs": [
        {
          "data": {
            "text/html": [
              "<div>\n",
              "<style scoped>\n",
              "    .dataframe tbody tr th:only-of-type {\n",
              "        vertical-align: middle;\n",
              "    }\n",
              "\n",
              "    .dataframe tbody tr th {\n",
              "        vertical-align: top;\n",
              "    }\n",
              "\n",
              "    .dataframe thead th {\n",
              "        text-align: right;\n",
              "    }\n",
              "</style>\n",
              "<table border=\"1\" class=\"dataframe\">\n",
              "  <thead>\n",
              "    <tr style=\"text-align: right;\">\n",
              "      <th></th>\n",
              "      <th>0</th>\n",
              "      <th>1</th>\n",
              "      <th>2</th>\n",
              "      <th>3</th>\n",
              "      <th>4</th>\n",
              "      <th>5</th>\n",
              "      <th>6</th>\n",
              "      <th>7</th>\n",
              "      <th>8</th>\n",
              "      <th>9</th>\n",
              "      <th>10</th>\n",
              "    </tr>\n",
              "  </thead>\n",
              "  <tbody>\n",
              "    <tr>\n",
              "      <th>0</th>\n",
              "      <td>0.0</td>\n",
              "      <td>1.0</td>\n",
              "      <td>-1.0</td>\n",
              "      <td>1.0</td>\n",
              "      <td>-1.0</td>\n",
              "      <td>0.0</td>\n",
              "      <td>0.0</td>\n",
              "      <td>0.0</td>\n",
              "      <td>0.000000</td>\n",
              "      <td>0.0</td>\n",
              "      <td>-0.302507</td>\n",
              "    </tr>\n",
              "    <tr>\n",
              "      <th>1</th>\n",
              "      <td>0.0</td>\n",
              "      <td>0.0</td>\n",
              "      <td>0.0</td>\n",
              "      <td>0.0</td>\n",
              "      <td>0.0</td>\n",
              "      <td>0.0</td>\n",
              "      <td>0.0</td>\n",
              "      <td>0.0</td>\n",
              "      <td>0.000000</td>\n",
              "      <td>0.0</td>\n",
              "      <td>-0.283867</td>\n",
              "    </tr>\n",
              "    <tr>\n",
              "      <th>2</th>\n",
              "      <td>0.0</td>\n",
              "      <td>1.0</td>\n",
              "      <td>-1.0</td>\n",
              "      <td>1.0</td>\n",
              "      <td>-1.0</td>\n",
              "      <td>0.0</td>\n",
              "      <td>0.0</td>\n",
              "      <td>0.0</td>\n",
              "      <td>0.000000</td>\n",
              "      <td>0.0</td>\n",
              "      <td>-0.297156</td>\n",
              "    </tr>\n",
              "    <tr>\n",
              "      <th>3</th>\n",
              "      <td>0.0</td>\n",
              "      <td>0.0</td>\n",
              "      <td>0.0</td>\n",
              "      <td>1.0</td>\n",
              "      <td>-1.0</td>\n",
              "      <td>1.0</td>\n",
              "      <td>-1.0</td>\n",
              "      <td>-2.0</td>\n",
              "      <td>1.769231</td>\n",
              "      <td>0.0</td>\n",
              "      <td>2.812846</td>\n",
              "    </tr>\n",
              "    <tr>\n",
              "      <th>4</th>\n",
              "      <td>0.0</td>\n",
              "      <td>1.0</td>\n",
              "      <td>-1.0</td>\n",
              "      <td>0.0</td>\n",
              "      <td>0.0</td>\n",
              "      <td>0.0</td>\n",
              "      <td>0.0</td>\n",
              "      <td>0.0</td>\n",
              "      <td>-0.538462</td>\n",
              "      <td>0.0</td>\n",
              "      <td>-0.297896</td>\n",
              "    </tr>\n",
              "  </tbody>\n",
              "</table>\n",
              "</div>"
            ],
            "text/plain": [
              "     0    1    2    3    4    5    6    7         8    9        10\n",
              "0  0.0  1.0 -1.0  1.0 -1.0  0.0  0.0  0.0  0.000000  0.0 -0.302507\n",
              "1  0.0  0.0  0.0  0.0  0.0  0.0  0.0  0.0  0.000000  0.0 -0.283867\n",
              "2  0.0  1.0 -1.0  1.0 -1.0  0.0  0.0  0.0  0.000000  0.0 -0.297156\n",
              "3  0.0  0.0  0.0  1.0 -1.0  1.0 -1.0 -2.0  1.769231  0.0  2.812846\n",
              "4  0.0  1.0 -1.0  0.0  0.0  0.0  0.0  0.0 -0.538462  0.0 -0.297896"
            ]
          },
          "execution_count": 509,
          "metadata": {},
          "output_type": "execute_result"
        }
      ],
      "source": [
        "# Scaling\n",
        "scaler = RobustScaler()\n",
        "\n",
        "X_train_prep_scaled = pd.DataFrame(scaler.fit_transform(X_train_preprocessed))\n",
        "X_test_prep_scaled = pd.DataFrame(scaler.transform(X_test_preprocessed))\n",
        "\n",
        "X_train_prep_scaled.head()"
      ]
    },
    {
      "cell_type": "markdown",
      "metadata": {
        "id": "9YQh0XowiBrQ"
      },
      "source": [
        "## Kalau mau lihat dataframe hasil transformasinya"
      ]
    },
    {
      "cell_type": "code",
      "execution_count": null,
      "metadata": {
        "id": "DqPSDoD9iBrR",
        "outputId": "a4da94eb-ecf6-4b3f-eac2-37d33132dfd2"
      },
      "outputs": [
        {
          "data": {
            "text/html": [
              "<div>\n",
              "<style scoped>\n",
              "    .dataframe tbody tr th:only-of-type {\n",
              "        vertical-align: middle;\n",
              "    }\n",
              "\n",
              "    .dataframe tbody tr th {\n",
              "        vertical-align: top;\n",
              "    }\n",
              "\n",
              "    .dataframe thead th {\n",
              "        text-align: right;\n",
              "    }\n",
              "</style>\n",
              "<table border=\"1\" class=\"dataframe\">\n",
              "  <thead>\n",
              "    <tr style=\"text-align: right;\">\n",
              "      <th></th>\n",
              "      <th>0</th>\n",
              "      <th>1</th>\n",
              "      <th>2</th>\n",
              "      <th>3</th>\n",
              "      <th>4</th>\n",
              "      <th>5</th>\n",
              "      <th>6</th>\n",
              "      <th>7</th>\n",
              "      <th>8</th>\n",
              "      <th>9</th>\n",
              "      <th>10</th>\n",
              "    </tr>\n",
              "  </thead>\n",
              "  <tbody>\n",
              "    <tr>\n",
              "      <th>0</th>\n",
              "      <td>0.0</td>\n",
              "      <td>1.0</td>\n",
              "      <td>0.0</td>\n",
              "      <td>1.0</td>\n",
              "      <td>0.0</td>\n",
              "      <td>0.0</td>\n",
              "      <td>1.0</td>\n",
              "      <td>3.0</td>\n",
              "      <td>28.0</td>\n",
              "      <td>0.0</td>\n",
              "      <td>7.6292</td>\n",
              "    </tr>\n",
              "    <tr>\n",
              "      <th>1</th>\n",
              "      <td>0.0</td>\n",
              "      <td>0.0</td>\n",
              "      <td>1.0</td>\n",
              "      <td>0.0</td>\n",
              "      <td>1.0</td>\n",
              "      <td>0.0</td>\n",
              "      <td>1.0</td>\n",
              "      <td>3.0</td>\n",
              "      <td>28.0</td>\n",
              "      <td>0.0</td>\n",
              "      <td>8.0500</td>\n",
              "    </tr>\n",
              "    <tr>\n",
              "      <th>2</th>\n",
              "      <td>0.0</td>\n",
              "      <td>1.0</td>\n",
              "      <td>0.0</td>\n",
              "      <td>1.0</td>\n",
              "      <td>0.0</td>\n",
              "      <td>0.0</td>\n",
              "      <td>1.0</td>\n",
              "      <td>3.0</td>\n",
              "      <td>28.0</td>\n",
              "      <td>0.0</td>\n",
              "      <td>7.7500</td>\n",
              "    </tr>\n",
              "    <tr>\n",
              "      <th>3</th>\n",
              "      <td>0.0</td>\n",
              "      <td>0.0</td>\n",
              "      <td>1.0</td>\n",
              "      <td>1.0</td>\n",
              "      <td>0.0</td>\n",
              "      <td>1.0</td>\n",
              "      <td>0.0</td>\n",
              "      <td>1.0</td>\n",
              "      <td>51.0</td>\n",
              "      <td>0.0</td>\n",
              "      <td>77.9583</td>\n",
              "    </tr>\n",
              "    <tr>\n",
              "      <th>4</th>\n",
              "      <td>0.0</td>\n",
              "      <td>1.0</td>\n",
              "      <td>0.0</td>\n",
              "      <td>0.0</td>\n",
              "      <td>1.0</td>\n",
              "      <td>0.0</td>\n",
              "      <td>1.0</td>\n",
              "      <td>3.0</td>\n",
              "      <td>21.0</td>\n",
              "      <td>0.0</td>\n",
              "      <td>7.7333</td>\n",
              "    </tr>\n",
              "  </tbody>\n",
              "</table>\n",
              "</div>"
            ],
            "text/plain": [
              "     0    1    2    3    4    5    6    7     8    9       10\n",
              "0  0.0  1.0  0.0  1.0  0.0  0.0  1.0  3.0  28.0  0.0   7.6292\n",
              "1  0.0  0.0  1.0  0.0  1.0  0.0  1.0  3.0  28.0  0.0   8.0500\n",
              "2  0.0  1.0  0.0  1.0  0.0  0.0  1.0  3.0  28.0  0.0   7.7500\n",
              "3  0.0  0.0  1.0  1.0  0.0  1.0  0.0  1.0  51.0  0.0  77.9583\n",
              "4  0.0  1.0  0.0  0.0  1.0  0.0  1.0  3.0  21.0  0.0   7.7333"
            ]
          },
          "execution_count": 510,
          "metadata": {},
          "output_type": "execute_result"
        }
      ],
      "source": [
        "X_train_preprocessed.head()"
      ]
    },
    {
      "cell_type": "code",
      "execution_count": null,
      "metadata": {
        "id": "EEGsXu16iBrS",
        "outputId": "0922d65b-1eed-412b-c28a-0854f4dc98ea"
      },
      "outputs": [
        {
          "data": {
            "text/plain": [
              "array(['x0_Cherbourg', 'x0_Queenstown', 'x0_Southampton'], dtype=object)"
            ]
          },
          "execution_count": 511,
          "metadata": {},
          "output_type": "execute_result"
        }
      ],
      "source": [
        "# kolom 0-2\n",
        "transformer.transformers_[0][1][1].get_feature_names()"
      ]
    },
    {
      "cell_type": "code",
      "execution_count": null,
      "metadata": {
        "id": "ckd5D-n_iBrU",
        "outputId": "1abac40b-1878-475b-ea54-e8e838f7cd80"
      },
      "outputs": [
        {
          "data": {
            "text/plain": [
              "array(['x0_female', 'x0_male', 'x1_False', 'x1_True'], dtype=object)"
            ]
          },
          "execution_count": 512,
          "metadata": {},
          "output_type": "execute_result"
        }
      ],
      "source": [
        "# kolom 3-6\n",
        "transformer.transformers_[1][1].get_feature_names()"
      ]
    },
    {
      "cell_type": "code",
      "execution_count": null,
      "metadata": {
        "id": "7l-nWKbFiBrV",
        "outputId": "455602f5-7502-4023-822b-661099fca81f"
      },
      "outputs": [
        {
          "data": {
            "text/html": [
              "<div>\n",
              "<style scoped>\n",
              "    .dataframe tbody tr th:only-of-type {\n",
              "        vertical-align: middle;\n",
              "    }\n",
              "\n",
              "    .dataframe tbody tr th {\n",
              "        vertical-align: top;\n",
              "    }\n",
              "\n",
              "    .dataframe thead th {\n",
              "        text-align: right;\n",
              "    }\n",
              "</style>\n",
              "<table border=\"1\" class=\"dataframe\">\n",
              "  <thead>\n",
              "    <tr style=\"text-align: right;\">\n",
              "      <th></th>\n",
              "      <th>x0_Cherbourg</th>\n",
              "      <th>x0_Queenstown</th>\n",
              "      <th>x0_Southampton</th>\n",
              "      <th>x0_female</th>\n",
              "      <th>x0_male</th>\n",
              "      <th>x1_False</th>\n",
              "      <th>x1_True</th>\n",
              "      <th>class</th>\n",
              "      <th>age</th>\n",
              "      <th>parch</th>\n",
              "      <th>fare</th>\n",
              "    </tr>\n",
              "  </thead>\n",
              "  <tbody>\n",
              "    <tr>\n",
              "      <th>0</th>\n",
              "      <td>0.0</td>\n",
              "      <td>1.0</td>\n",
              "      <td>-1.0</td>\n",
              "      <td>1.0</td>\n",
              "      <td>-1.0</td>\n",
              "      <td>0.0</td>\n",
              "      <td>0.0</td>\n",
              "      <td>0.0</td>\n",
              "      <td>0.000000</td>\n",
              "      <td>0.0</td>\n",
              "      <td>-0.302507</td>\n",
              "    </tr>\n",
              "    <tr>\n",
              "      <th>1</th>\n",
              "      <td>0.0</td>\n",
              "      <td>0.0</td>\n",
              "      <td>0.0</td>\n",
              "      <td>0.0</td>\n",
              "      <td>0.0</td>\n",
              "      <td>0.0</td>\n",
              "      <td>0.0</td>\n",
              "      <td>0.0</td>\n",
              "      <td>0.000000</td>\n",
              "      <td>0.0</td>\n",
              "      <td>-0.283867</td>\n",
              "    </tr>\n",
              "    <tr>\n",
              "      <th>2</th>\n",
              "      <td>0.0</td>\n",
              "      <td>1.0</td>\n",
              "      <td>-1.0</td>\n",
              "      <td>1.0</td>\n",
              "      <td>-1.0</td>\n",
              "      <td>0.0</td>\n",
              "      <td>0.0</td>\n",
              "      <td>0.0</td>\n",
              "      <td>0.000000</td>\n",
              "      <td>0.0</td>\n",
              "      <td>-0.297156</td>\n",
              "    </tr>\n",
              "    <tr>\n",
              "      <th>3</th>\n",
              "      <td>0.0</td>\n",
              "      <td>0.0</td>\n",
              "      <td>0.0</td>\n",
              "      <td>1.0</td>\n",
              "      <td>-1.0</td>\n",
              "      <td>1.0</td>\n",
              "      <td>-1.0</td>\n",
              "      <td>-2.0</td>\n",
              "      <td>1.769231</td>\n",
              "      <td>0.0</td>\n",
              "      <td>2.812846</td>\n",
              "    </tr>\n",
              "    <tr>\n",
              "      <th>4</th>\n",
              "      <td>0.0</td>\n",
              "      <td>1.0</td>\n",
              "      <td>-1.0</td>\n",
              "      <td>0.0</td>\n",
              "      <td>0.0</td>\n",
              "      <td>0.0</td>\n",
              "      <td>0.0</td>\n",
              "      <td>0.0</td>\n",
              "      <td>-0.538462</td>\n",
              "      <td>0.0</td>\n",
              "      <td>-0.297896</td>\n",
              "    </tr>\n",
              "  </tbody>\n",
              "</table>\n",
              "</div>"
            ],
            "text/plain": [
              "   x0_Cherbourg  x0_Queenstown  x0_Southampton  x0_female  x0_male  x1_False  \\\n",
              "0           0.0            1.0            -1.0        1.0     -1.0       0.0   \n",
              "1           0.0            0.0             0.0        0.0      0.0       0.0   \n",
              "2           0.0            1.0            -1.0        1.0     -1.0       0.0   \n",
              "3           0.0            0.0             0.0        1.0     -1.0       1.0   \n",
              "4           0.0            1.0            -1.0        0.0      0.0       0.0   \n",
              "\n",
              "   x1_True  class       age  parch      fare  \n",
              "0      0.0    0.0  0.000000    0.0 -0.302507  \n",
              "1      0.0    0.0  0.000000    0.0 -0.283867  \n",
              "2      0.0    0.0  0.000000    0.0 -0.297156  \n",
              "3     -1.0   -2.0  1.769231    0.0  2.812846  \n",
              "4      0.0    0.0 -0.538462    0.0 -0.297896  "
            ]
          },
          "execution_count": 513,
          "metadata": {},
          "output_type": "execute_result"
        }
      ],
      "source": [
        "X_train_prep_scaled.rename(columns={\n",
        "    0:'x0_Cherbourg',\n",
        "    1:'x0_Queenstown',\n",
        "    2:'x0_Southampton',\n",
        "    3:'x0_female',\n",
        "    4:'x0_male',\n",
        "    5:'x1_False',\n",
        "    6:'x1_True',\n",
        "    7:'class',\n",
        "    8:'age',\n",
        "    9:'parch',\n",
        "    10:'fare'\n",
        "}, inplace=True)\n",
        "\n",
        "X_train_prep_scaled.head()"
      ]
    },
    {
      "cell_type": "code",
      "execution_count": null,
      "metadata": {
        "id": "YO0vlNWBiBrX"
      },
      "outputs": [],
      "source": []
    },
    {
      "cell_type": "markdown",
      "metadata": {
        "id": "y4uGcL4KiBrX"
      },
      "source": [
        "## **Modeling --> Cross Validation**\n",
        "**Mencari model terbaik untuk melakukan prediksi**"
      ]
    },
    {
      "cell_type": "code",
      "execution_count": null,
      "metadata": {
        "id": "2lrZpE9hiBrY"
      },
      "outputs": [],
      "source": [
        "# Define the models\n",
        "logreg = LogisticRegression(solver='liblinear')\n",
        "knn = KNeighborsClassifier(n_neighbors=3)\n",
        "tree = DecisionTreeClassifier(max_depth=3)"
      ]
    },
    {
      "cell_type": "markdown",
      "source": [
        "* https://scikit-learn.org/stable/modules/generated/sklearn.model_selection.cross_val_score.html\n",
        "* https://scikit-learn.org/stable/modules/generated/sklearn.model_selection.StratifiedKFold.html"
      ],
      "metadata": {
        "id": "DFW5O2pDrM0r"
      }
    },
    {
      "cell_type": "code",
      "execution_count": null,
      "metadata": {
        "id": "klRC2OwAiBrY",
        "outputId": "a907ee24-3fe2-4325-abaa-e2c94695c8e2"
      },
      "outputs": [
        {
          "name": "stdout",
          "output_type": "stream",
          "text": [
            "LogisticRegression(solver='liblinear') [0.72222222 0.77777778 0.71153846 0.62745098 0.78632479]\n",
            "KNeighborsClassifier(n_neighbors=3) [0.75       0.72897196 0.71559633 0.69902913 0.76363636]\n",
            "DecisionTreeClassifier(max_depth=3) [0.7184466  0.73684211 0.75728155 0.63636364 0.77777778]\n"
          ]
        }
      ],
      "source": [
        "# Pilihan model\n",
        "models = [logreg, knn, tree]\n",
        "\n",
        "nilai_mean = []\n",
        "nilai_std = []\n",
        "\n",
        "# Mencari model terbaik berdasarkan f1 score terbesar dan std terkecil\n",
        "for i in models:\n",
        "\n",
        "    skfold = StratifiedKFold(n_splits = 5, random_state = 0)\n",
        "\n",
        "    model_cv = cross_val_score(\n",
        "        i,\n",
        "        X_train_prep_scaled,\n",
        "        y_train,\n",
        "        cv = skfold,\n",
        "        scoring = 'f1'\n",
        "        )\n",
        "\n",
        "    nilai_mean.append(model_cv.mean())\n",
        "    nilai_std.append(model_cv.std())\n",
        "\n",
        "    print(i , model_cv)"
      ]
    },
    {
      "cell_type": "code",
      "execution_count": null,
      "metadata": {
        "id": "alb9KjlOiBra",
        "outputId": "2faa1ccf-4e69-4a2d-bf23-07ba2e530b63"
      },
      "outputs": [
        {
          "data": {
            "text/html": [
              "<div>\n",
              "<style scoped>\n",
              "    .dataframe tbody tr th:only-of-type {\n",
              "        vertical-align: middle;\n",
              "    }\n",
              "\n",
              "    .dataframe tbody tr th {\n",
              "        vertical-align: top;\n",
              "    }\n",
              "\n",
              "    .dataframe thead th {\n",
              "        text-align: right;\n",
              "    }\n",
              "</style>\n",
              "<table border=\"1\" class=\"dataframe\">\n",
              "  <thead>\n",
              "    <tr style=\"text-align: right;\">\n",
              "      <th></th>\n",
              "      <th>model</th>\n",
              "      <th>mean</th>\n",
              "      <th>std</th>\n",
              "    </tr>\n",
              "  </thead>\n",
              "  <tbody>\n",
              "    <tr>\n",
              "      <th>0</th>\n",
              "      <td>logreg</td>\n",
              "      <td>0.725063</td>\n",
              "      <td>0.057010</td>\n",
              "    </tr>\n",
              "    <tr>\n",
              "      <th>1</th>\n",
              "      <td>knn</td>\n",
              "      <td>0.731447</td>\n",
              "      <td>0.023189</td>\n",
              "    </tr>\n",
              "    <tr>\n",
              "      <th>2</th>\n",
              "      <td>tree</td>\n",
              "      <td>0.725342</td>\n",
              "      <td>0.048717</td>\n",
              "    </tr>\n",
              "  </tbody>\n",
              "</table>\n",
              "</div>"
            ],
            "text/plain": [
              "    model      mean       std\n",
              "0  logreg  0.725063  0.057010\n",
              "1     knn  0.731447  0.023189\n",
              "2    tree  0.725342  0.048717"
            ]
          },
          "execution_count": 517,
          "metadata": {},
          "output_type": "execute_result"
        }
      ],
      "source": [
        "# Perbandingan f1 score dan standard deviation\n",
        "pd.DataFrame({\n",
        "    'model': ['logreg','knn','tree'],\n",
        "    'mean': nilai_mean,\n",
        "    'std': nilai_std\n",
        "})"
      ]
    },
    {
      "cell_type": "markdown",
      "metadata": {
        "id": "AaEPUeNtiBri"
      },
      "source": [
        "### **Modeling dengan Pipeline**"
      ]
    },
    {
      "cell_type": "code",
      "execution_count": null,
      "metadata": {
        "id": "nRXdtSWSiBrj"
      },
      "outputs": [],
      "source": [
        "# # Pilihan model\n",
        "# models = [logreg, knn, tree]\n",
        "\n",
        "# nilai_mean = []\n",
        "# nilai_std = []\n",
        "\n",
        "# # Mencari model terbaik berdasarkan f1 score terbesar dan std terkecil\n",
        "# for i in models:\n",
        "\n",
        "#     skfold = StratifiedKFold(n_splits = 5, random_state = 0)\n",
        "\n",
        "#     model_cv = cross_val_score(\n",
        "#         Pipeline([('prep',transformer), ('scaler',RobustScaler()), ('model', i)]),\n",
        "#         X_train,\n",
        "#         y_train,\n",
        "#         cv = skfold,\n",
        "#         scoring = 'f1')\n",
        "\n",
        "#     nilai_mean.append(model_cv.mean())\n",
        "#     nilai_std.append(model_cv.std())\n",
        "\n",
        "#     print(i , model_cv)"
      ]
    },
    {
      "cell_type": "markdown",
      "metadata": {
        "id": "0fCtTaauiBrk"
      },
      "source": [
        "### **Interpretasi**\n",
        "\n",
        "- Di antara ketiga model, nilai rata-rata f1 score yang paling tinggi adalah model KNN dengan score 73.1%.\n",
        "- Model dengan KNN juga menjadi model yang paling stabil karena nilai standar deviasinya paling kecil.\n",
        "- Oleh karena itu, model KNN dipilih sebagai model terbaik untuk kasus Titanic ini."
      ]
    },
    {
      "cell_type": "code",
      "execution_count": null,
      "metadata": {
        "id": "BzaJWngpiBrl"
      },
      "outputs": [],
      "source": []
    },
    {
      "cell_type": "markdown",
      "metadata": {
        "id": "yGlu1Fi0iBrm"
      },
      "source": [
        "## **Modeling --> Prediksi test set**"
      ]
    },
    {
      "cell_type": "code",
      "execution_count": null,
      "metadata": {
        "id": "hjqKthqDiBrn",
        "outputId": "0af945ae-d68f-4307-96ed-8dd718118823"
      },
      "outputs": [
        {
          "data": {
            "text/plain": [
              "KNeighborsClassifier(n_neighbors=3)"
            ]
          },
          "execution_count": 518,
          "metadata": {},
          "output_type": "execute_result"
        }
      ],
      "source": [
        "# Model performance in test set\n",
        "knn = KNeighborsClassifier(n_neighbors=3)\n",
        "\n",
        "# fitting\n",
        "knn.fit(X_train_prep_scaled, y_train)"
      ]
    },
    {
      "cell_type": "markdown",
      "source": [
        "* https://scikit-learn.org/stable/modules/generated/sklearn.metrics.classification_report.html"
      ],
      "metadata": {
        "id": "_N3S_tbmtnnz"
      }
    },
    {
      "cell_type": "code",
      "execution_count": null,
      "metadata": {
        "id": "L1MS5owxiBrn",
        "outputId": "36a1078d-2a04-4a54-e823-ed84c4765831"
      },
      "outputs": [
        {
          "name": "stdout",
          "output_type": "stream",
          "text": [
            "              precision    recall  f1-score   support\n",
            "\n",
            "           0       0.80      0.83      0.81       110\n",
            "           1       0.71      0.67      0.69        69\n",
            "\n",
            "    accuracy                           0.77       179\n",
            "   macro avg       0.75      0.75      0.75       179\n",
            "weighted avg       0.76      0.77      0.76       179\n",
            "\n"
          ]
        }
      ],
      "source": [
        "# predict\n",
        "y_pred = knn.predict(X_test_prep_scaled)\n",
        "\n",
        "# score\n",
        "print(classification_report(y_test, y_pred))"
      ]
    },
    {
      "cell_type": "code",
      "execution_count": null,
      "metadata": {
        "id": "HeJt67AxiBro",
        "outputId": "d3ec6a57-e1b9-477a-c857-3b499d6e77db"
      },
      "outputs": [
        {
          "name": "stdout",
          "output_type": "stream",
          "text": [
            "Precision: 0.7076923076923077\n",
            "Recall: 0.6666666666666666\n",
            "F1 score: 0.6865671641791045\n"
          ]
        }
      ],
      "source": [
        "# score\n",
        "print('Precision:', precision_score(y_test, y_pred))\n",
        "print('Recall:', recall_score(y_test, y_pred))\n",
        "print('F1 score:', f1_score(y_test, y_pred))"
      ]
    },
    {
      "cell_type": "markdown",
      "source": [
        "* https://scikit-learn.org/stable/modules/generated/sklearn.metrics.confusion_matrix.html"
      ],
      "metadata": {
        "id": "sdg3OkQst2i4"
      }
    },
    {
      "cell_type": "code",
      "execution_count": null,
      "metadata": {
        "id": "qOx-k95XiBrp",
        "outputId": "799ad838-4d7a-4ec9-fdb7-8d653586320b"
      },
      "outputs": [
        {
          "data": {
            "image/png": "[encoded data removed]",
            "text/plain": [
              "<Figure size 576x360 with 2 Axes>"
            ]
          },
          "metadata": {
            "needs_background": "light"
          },
          "output_type": "display_data"
        }
      ],
      "source": [
        "f, ax = plt.subplots(figsize=(8, 5))\n",
        "\n",
        "sns.heatmap(confusion_matrix(y_test, y_pred), annot=True, fmt='.0f', ax=ax)\n",
        "\n",
        "plt.xlabel('y Prediksi')\n",
        "plt.ylabel('y Aktual');"
      ]
    },
    {
      "cell_type": "markdown",
      "metadata": {
        "id": "-Mos1uENiBrq"
      },
      "source": [
        "### **Interpretasi**"
      ]
    },
    {
      "cell_type": "markdown",
      "metadata": {
        "id": "qVwzFAd1iBrq"
      },
      "source": [
        "![metrics](data:image/png;base64,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)"
      ]
    },
    {
      "cell_type": "markdown",
      "metadata": {
        "id": "xxIm1XRyiBru"
      },
      "source": [
        "### **Precision**\n",
        "Precision menggambarkan seberapa akurat model dalam membedakan mana yang aktualnya memang positif dari semua data yang terprediksi positif.\n",
        "\n",
        "Precision cocok digunakan jika cost untuk False Positive dinilai tinggi. Jika kita menggunakan metric precision, itu berarti kita berusaha untuk meminimalkan jumlah false positive yang dihasilkan oleh model. Namun, perlu selalu diingat bahwa selalu ada trade off antara precision dan recall.\n",
        "\n",
        "Jadi, dalam kasus Titanic ini, false positive berarti penumpang yang diprediksi survived oleh model, namun aktualnya tidak survived. Dari rumus precision di atas dan dihubungkan dengan kasus Titanic, nilai precision berarti menggambarkan 'dari semua penumpang yang diklasifikasikan sebagai penumpang yang selamat, berapa banyak yang sebenarnya selamat?'\n",
        "\n",
        "Nilai precision 71% artinya, dari total penumpang yang diklasifikasikan selamat (65 penumpang), 71%-nya berhasil terprediksi dengan benar (46 penumpang).\n",
        "\n",
        "### **Recall**\n",
        "Recall menggambarkan berapa banyak jumlah aktual positif yang dapat diprediksi oleh model.\n",
        "\n",
        "Recall cocok digunakan jika cost untuk False Negative dinilai tinggi. Jika kita menggunakan metric recall, itu berarti kita berusaha untuk meminimalkan jumlah false negative yang dihasilkan oleh model.\n",
        "\n",
        "Dalam kasus Titanic, false negative berarti penumpang yang diprediksi tidak selamat, namun aktualnya selamat. Itu berarti, nilai recall merepresentasikan 'dari semua penumpang yang selamat, berapa orang yang diklasifikasikan selamat?'\n",
        "\n",
        "Nilai recall 68% artinya, dari total penumpang yang aslinya selamat (69 orang), 68%-nya berhasil berhasil diprediksi dengan benar (46 penumpang)\n",
        "\n",
        "### **F1-score**\n",
        "\n",
        "Pada binary classification, metrik F1-score menggambarkan rata-rata harmonik dari nilai precision dan recall. Nilai F1-score tergantung pada nilai precision dan recall yang didapat. Semakin tinggi nilai precision dan recall, semakin tinggi pula nilai F1-score, dan berlaku sebaliknya."
      ]
    },
    {
      "cell_type": "markdown",
      "metadata": {
        "id": "Rg52n4Y3iBrv"
      },
      "source": [
        "### **ROC AUC Curve**"
      ]
    },
    {
      "cell_type": "markdown",
      "metadata": {
        "id": "49f8P3LaiBrv"
      },
      "source": [
        "ROC = kurva probabilitas\n",
        "\n",
        "Pada binary classification, ROC AUC curve cocok digunakan ketika kita tertarik pada kedua kelas.\n",
        "\n",
        "ROC AUC score merepresentasikan score yang didapat dari ROC AUC curve atau dengan kata lain hasil kalkulasi area under the curve. ROC AUC score menggambarkan seberapa baik model dapat membedakan 2 kelas yang ada.\n",
        "\n",
        "Model classifiers yang memiliki persentase 100% benar dalam prediksinya, akan memiliki ROC AUC score = 1, sedangkan yang terburuk adalah dengan score 0.5 (sama saja dengan random classifier)."
      ]
    },
    {
      "cell_type": "code",
      "execution_count": null,
      "metadata": {
        "id": "ok-fGamjiBrw"
      },
      "outputs": [],
      "source": [
        "y_proba = knn.predict_proba(X_test_prep_scaled)\n",
        "y_proba = y_proba[:, 1]"
      ]
    },
    {
      "cell_type": "markdown",
      "source": [
        "* https://scikit-learn.org/stable/modules/generated/sklearn.metrics.plot_roc_curve.html"
      ],
      "metadata": {
        "id": "ryy0VLQG0SPo"
      }
    },
    {
      "cell_type": "code",
      "execution_count": null,
      "metadata": {
        "id": "RtXmihDeiBry",
        "outputId": "fd3c798c-0b7c-4522-dd81-791c52c3e79a"
      },
      "outputs": [
        {
          "data": {
            "image/png": "[encoded data removed]",
            "text/plain": [
              "<Figure size 432x288 with 1 Axes>"
            ]
          },
          "metadata": {
            "needs_background": "light"
          },
          "output_type": "display_data"
        }
      ],
      "source": [
        "plot_roc_curve(knn, X_test_prep_scaled, y_test);"
      ]
    },
    {
      "cell_type": "markdown",
      "metadata": {
        "id": "7CpGFAC8iBry"
      },
      "source": [
        "Nilai AUC 80% berarti ada kemungkinan 80% model dapat membedakan antar kelas positif dan negatif."
      ]
    },
    {
      "cell_type": "markdown",
      "source": [
        "* https://scikit-learn.org/stable/modules/generated/sklearn.metrics.roc_auc_score.html"
      ],
      "metadata": {
        "id": "szmrRu_p02XJ"
      }
    },
    {
      "cell_type": "code",
      "execution_count": null,
      "metadata": {
        "id": "0gz4eBhEiBrz",
        "outputId": "8102a81c-dabb-4768-c8c6-713b4a6250ea"
      },
      "outputs": [
        {
          "data": {
            "text/plain": [
              "0.798221343873518"
            ]
          },
          "execution_count": 524,
          "metadata": {},
          "output_type": "execute_result"
        }
      ],
      "source": [
        "roc_auc_score(y_test, y_proba)"
      ]
    },
    {
      "cell_type": "markdown",
      "source": [
        "* https://scikit-learn.org/stable/modules/generated/sklearn.metrics.roc_curve.html"
      ],
      "metadata": {
        "id": "BSIQHeZa0mjr"
      }
    },
    {
      "cell_type": "code",
      "execution_count": null,
      "metadata": {
        "id": "g315A_8wiBrz"
      },
      "outputs": [],
      "source": [
        "fpr, tpr, thresholds = roc_curve(y_test, y_proba, pos_label=1)"
      ]
    },
    {
      "cell_type": "code",
      "execution_count": null,
      "metadata": {
        "id": "QcW4_R7QiBr1",
        "outputId": "19ffa79d-af3c-48c0-e6fb-df6987e2af28"
      },
      "outputs": [
        {
          "data": {
            "text/html": [
              "<div>\n",
              "<style scoped>\n",
              "    .dataframe tbody tr th:only-of-type {\n",
              "        vertical-align: middle;\n",
              "    }\n",
              "\n",
              "    .dataframe tbody tr th {\n",
              "        vertical-align: top;\n",
              "    }\n",
              "\n",
              "    .dataframe thead th {\n",
              "        text-align: right;\n",
              "    }\n",
              "</style>\n",
              "<table border=\"1\" class=\"dataframe\">\n",
              "  <thead>\n",
              "    <tr style=\"text-align: right;\">\n",
              "      <th></th>\n",
              "      <th>fpr</th>\n",
              "      <th>tpr</th>\n",
              "      <th>thresholds</th>\n",
              "    </tr>\n",
              "  </thead>\n",
              "  <tbody>\n",
              "    <tr>\n",
              "      <th>0</th>\n",
              "      <td>0.000000</td>\n",
              "      <td>0.000000</td>\n",
              "      <td>2.000000</td>\n",
              "    </tr>\n",
              "    <tr>\n",
              "      <th>1</th>\n",
              "      <td>0.036364</td>\n",
              "      <td>0.391304</td>\n",
              "      <td>1.000000</td>\n",
              "    </tr>\n",
              "    <tr>\n",
              "      <th>2</th>\n",
              "      <td>0.172727</td>\n",
              "      <td>0.666667</td>\n",
              "      <td>0.666667</td>\n",
              "    </tr>\n",
              "    <tr>\n",
              "      <th>3</th>\n",
              "      <td>0.390909</td>\n",
              "      <td>0.826087</td>\n",
              "      <td>0.333333</td>\n",
              "    </tr>\n",
              "    <tr>\n",
              "      <th>4</th>\n",
              "      <td>1.000000</td>\n",
              "      <td>1.000000</td>\n",
              "      <td>0.000000</td>\n",
              "    </tr>\n",
              "  </tbody>\n",
              "</table>\n",
              "</div>"
            ],
            "text/plain": [
              "        fpr       tpr  thresholds\n",
              "0  0.000000  0.000000    2.000000\n",
              "1  0.036364  0.391304    1.000000\n",
              "2  0.172727  0.666667    0.666667\n",
              "3  0.390909  0.826087    0.333333\n",
              "4  1.000000  1.000000    0.000000"
            ]
          },
          "execution_count": 526,
          "metadata": {},
          "output_type": "execute_result"
        }
      ],
      "source": [
        "# pd.set_option('display.max_rows', None)\n",
        "\n",
        "pd.DataFrame({\n",
        "    'fpr':fpr,\n",
        "    'tpr':tpr,\n",
        "    'thresholds':thresholds\n",
        "})"
      ]
    },
    {
      "cell_type": "markdown",
      "metadata": {
        "id": "15DY31VHiBr1"
      },
      "source": [
        "### **Precision-Recall Curve**"
      ]
    },
    {
      "cell_type": "markdown",
      "metadata": {
        "id": "dyAKFjL8iBr2"
      },
      "source": [
        "Precision-Recall curve dapat membantu memvisualisasikan bagaimana tiap threshold memengaruhi performa dari model classifier.\n",
        "\n",
        "Nilai AP yang dihasilkan pada Precision-Recall curve merepresentasikan nilai rata-rata precision dari semua threshold."
      ]
    },
    {
      "cell_type": "markdown",
      "source": [
        "* https://scikit-learn.org/stable/modules/generated/sklearn.metrics.plot_precision_recall_curve.html"
      ],
      "metadata": {
        "id": "cKxS10br1Eny"
      }
    },
    {
      "cell_type": "code",
      "execution_count": null,
      "metadata": {
        "id": "Dyy7WIpViBr3",
        "outputId": "b4bfeb51-0e39-409c-b9ff-3d495992450b"
      },
      "outputs": [
        {
          "data": {
            "image/png": "[encoded data removed]",
            "text/plain": [
              "<Figure size 432x288 with 1 Axes>"
            ]
          },
          "metadata": {
            "needs_background": "light"
          },
          "output_type": "display_data"
        }
      ],
      "source": [
        "plot_precision_recall_curve(knn, X_test_prep_scaled, y_test);"
      ]
    },
    {
      "cell_type": "markdown",
      "source": [
        "* https://scikit-learn.org/stable/modules/generated/sklearn.metrics.average_precision_score.html\n",
        "* https://scikit-learn.org/stable/modules/model_evaluation.html#precision-recall-f-measure-metrics"
      ],
      "metadata": {
        "id": "plrmU-681XDE"
      }
    },
    {
      "cell_type": "code",
      "execution_count": null,
      "metadata": {
        "id": "Zd5CCfDdiBr3",
        "outputId": "ad27484d-e469-4f84-c4da-dfff126b7104"
      },
      "outputs": [
        {
          "data": {
            "text/plain": [
              "0.6935939304700618"
            ]
          },
          "execution_count": 529,
          "metadata": {},
          "output_type": "execute_result"
        }
      ],
      "source": [
        "average_precision_score(y_test, y_proba)"
      ]
    },
    {
      "cell_type": "markdown",
      "source": [
        "* https://scikit-learn.org/stable/modules/generated/sklearn.metrics.precision_recall_curve.html"
      ],
      "metadata": {
        "id": "79dShIX01xxz"
      }
    },
    {
      "cell_type": "code",
      "execution_count": null,
      "metadata": {
        "id": "KYWqIIXYiBr4"
      },
      "outputs": [],
      "source": [
        "p, r, th = precision_recall_curve(y_test, y_proba)"
      ]
    },
    {
      "cell_type": "code",
      "execution_count": null,
      "metadata": {
        "id": "1owbQWaGiBr4"
      },
      "outputs": [],
      "source": [
        "th = list(th)\n",
        "th.insert(0, 0)"
      ]
    },
    {
      "cell_type": "code",
      "execution_count": null,
      "metadata": {
        "id": "W6qmdxYiiBr5",
        "outputId": "0884dad8-d9aa-4dec-c015-f87e8e388483"
      },
      "outputs": [
        {
          "data": {
            "text/plain": [
              "[0, 0.0, 0.3333333333333333, 0.6666666666666666, 1.0]"
            ]
          },
          "execution_count": 532,
          "metadata": {},
          "output_type": "execute_result"
        }
      ],
      "source": [
        "th"
      ]
    },
    {
      "cell_type": "code",
      "execution_count": null,
      "metadata": {
        "id": "az347NtmiBr6",
        "outputId": "2dc82fbf-b856-47db-cb40-f7630e4a9d5d"
      },
      "outputs": [
        {
          "data": {
            "text/html": [
              "<div>\n",
              "<style scoped>\n",
              "    .dataframe tbody tr th:only-of-type {\n",
              "        vertical-align: middle;\n",
              "    }\n",
              "\n",
              "    .dataframe tbody tr th {\n",
              "        vertical-align: top;\n",
              "    }\n",
              "\n",
              "    .dataframe thead th {\n",
              "        text-align: right;\n",
              "    }\n",
              "</style>\n",
              "<table border=\"1\" class=\"dataframe\">\n",
              "  <thead>\n",
              "    <tr style=\"text-align: right;\">\n",
              "      <th></th>\n",
              "      <th>recall</th>\n",
              "      <th>precision</th>\n",
              "      <th>threshold</th>\n",
              "    </tr>\n",
              "  </thead>\n",
              "  <tbody>\n",
              "    <tr>\n",
              "      <th>0</th>\n",
              "      <td>1.000000</td>\n",
              "      <td>0.385475</td>\n",
              "      <td>0.000000</td>\n",
              "    </tr>\n",
              "    <tr>\n",
              "      <th>1</th>\n",
              "      <td>0.826087</td>\n",
              "      <td>0.570000</td>\n",
              "      <td>0.000000</td>\n",
              "    </tr>\n",
              "    <tr>\n",
              "      <th>2</th>\n",
              "      <td>0.666667</td>\n",
              "      <td>0.707692</td>\n",
              "      <td>0.333333</td>\n",
              "    </tr>\n",
              "    <tr>\n",
              "      <th>3</th>\n",
              "      <td>0.391304</td>\n",
              "      <td>0.870968</td>\n",
              "      <td>0.666667</td>\n",
              "    </tr>\n",
              "    <tr>\n",
              "      <th>4</th>\n",
              "      <td>0.000000</td>\n",
              "      <td>1.000000</td>\n",
              "      <td>1.000000</td>\n",
              "    </tr>\n",
              "  </tbody>\n",
              "</table>\n",
              "</div>"
            ],
            "text/plain": [
              "     recall  precision  threshold\n",
              "0  1.000000   0.385475   0.000000\n",
              "1  0.826087   0.570000   0.000000\n",
              "2  0.666667   0.707692   0.333333\n",
              "3  0.391304   0.870968   0.666667\n",
              "4  0.000000   1.000000   1.000000"
            ]
          },
          "execution_count": 533,
          "metadata": {},
          "output_type": "execute_result"
        }
      ],
      "source": [
        "pd.DataFrame({\n",
        "    'recall':r,\n",
        "    'precision':p,\n",
        "    'threshold':th\n",
        "})"
      ]
    },
    {
      "cell_type": "code",
      "execution_count": null,
      "metadata": {
        "id": "g9R25cvFiBr6",
        "outputId": "2325d43f-5fbe-4b1b-ede3-9fe45deec117"
      },
      "outputs": [
        {
          "data": {
            "image/png": "[encoded data removed]",
            "text/plain": [
              "<Figure size 1008x504 with 1 Axes>"
            ]
          },
          "metadata": {
            "needs_background": "light"
          },
          "output_type": "display_data"
        }
      ],
      "source": [
        "def plot_precision_vs_recall(precision, recall):\n",
        "    plt.plot(recall, precision, 'g--', linewidth=2.5)\n",
        "    plt.xlabel('recall', fontsize=19)\n",
        "    plt.ylabel('precision', fontsize=19)\n",
        "    plt.axis([0, 1.5, 0, 1.5])\n",
        "\n",
        "plt.figure(figsize=(14, 7))\n",
        "plot_precision_vs_recall(p, r)\n",
        "plt.show()"
      ]
    },
    {
      "cell_type": "markdown",
      "source": [
        "## **Latihan Hyperparameter Tuning**<br>\n",
        "### **Gunakan dataset 'insurance'**\n",
        "\n",
        "Carilah model dan hyperparameter terbaik untuk memprediksi biaya asuransi tiap individu berdasarkan karakteristiknya.\n",
        "1. Lakukan EDA singkat untuk mengeksplorasi dataset terlebih dahulu.\n",
        "2. Lakukan preprocessing pada features jika dibutuhkan.\n",
        "3. Lakukan modeling dengan menggunakan linear regression, knn regressor, dan decision tree regressor.<br>\n",
        "    Kandidat algoritma:\n",
        "    - linreg = LinearRegression(fit_intercept=True)\n",
        "    - knn = KNeighborsRegressor(n_neighbors=5)\n",
        "    - tree = DecisionTreeRegressor(criterion='mae', min_samples_leaf=1, max_depth=5, random_state=0)\n",
        "4. Pilih 1 model terbaik berdasarkan hasil cross validasi 3 model di atas.\n",
        "5. Lakukan prediksi pada test set dari model terpilih (sebelum hyperparameter tuning).\n",
        "6. Lakukan hyperparameter tuning pada model terpilih tsb.\n",
        "7. Lakukan prediksi pada test set dari model dengan hyperparameter tuning.\n",
        "8. Bandingkan hasil performa model sebelum dan sesudah tuning.\n",
        "\n",
        "*Tips: Gunakan Pipeline*<br>\n",
        "### **Features Description**\n",
        "\n",
        "- age: age of primary beneficiary\n",
        "\n",
        "- sex: insurance contractor gender, female, male\n",
        "\n",
        "- bmi: Body mass index, providing an understanding of body, weights that are relatively high or low relative to height,\n",
        "objective index of body weight (kg / m ^ 2) using the ratio of height to weight, ideally 18.5 to 24.9\n",
        "\n",
        "- children: Number of children covered by health insurance / Number of dependents\n",
        "\n",
        "- smoker: Smoking\n",
        "\n",
        "- region: the beneficiary's residential area in the US, northeast, southeast, southwest, northwest.\n",
        "\n",
        "- charges: Individual medical costs billed by health insurance"
      ],
      "metadata": {
        "id": "pnRlRf0JpRF1"
      }
    }
  ],
  "metadata": {
    "interpreter": {
      "hash": "37eb40c3388cfde35488e2d005b0d69ca91ddeff8a429754d4da636d3f888e5e"
    },
    "kernelspec": {
      "display_name": "Python 3.7.6 64-bit ('base': conda)",
      "name": "python3"
    },
    "language_info": {
      "codemirror_mode": {
        "name": "ipython",
        "version": 3
      },
      "file_extension": ".py",
      "mimetype": "text/x-python",
      "name": "python",
      "nbconvert_exporter": "python",
      "pygments_lexer": "ipython3",
      "version": "3.7.6"
    },
    "orig_nbformat": 4,
    "colab": {
      "provenance": [],
      "toc_visible": true
    }
  },
  "nbformat": 4,
  "nbformat_minor": 0
}